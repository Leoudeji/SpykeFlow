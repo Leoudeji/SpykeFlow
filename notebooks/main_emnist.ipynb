{
 "cells": [
  {
   "cell_type": "code",
   "execution_count": 1,
   "metadata": {},
   "outputs": [
    {
     "name": "stderr",
     "output_type": "stream",
     "text": [
      "/usr/local/lib/python2.7/dist-packages/h5py/__init__.py:36: FutureWarning: Conversion of the second argument of issubdtype from `float` to `np.floating` is deprecated. In future, it will be treated as `np.float64 == np.dtype(float).type`.\n",
      "  from ._conv import register_converters as _register_converters\n"
     ]
    },
    {
     "name": "stdout",
     "output_type": "stream",
     "text": [
      "WARNING:tensorflow:From /home/ruthvik/Desktop/Summer 2017/SpikeFlow/spikeflow/network.py:23: The name tf.Session is deprecated. Please use tf.compat.v1.Session instead.\n",
      "\n",
      "WARNING:tensorflow:From /home/ruthvik/Desktop/Summer 2017/SpikeFlow/spikeflow/network.py:23: The name tf.ConfigProto is deprecated. Please use tf.compat.v1.ConfigProto instead.\n",
      "\n",
      "Prepping the MNIST data .... \n",
      "\n",
      "Finished MNIST data ..\n",
      "\n",
      "Prepping the EMNIST data .... \n",
      "\n",
      "Finished EMNIST data ..\n",
      "\n",
      "Prepping the CIFAR100 data .... \n",
      "\n",
      "Unable to find data in AllDataSets/cifar100..\n",
      "Prepping the CIFAR10 data .... \n",
      "\n",
      "Unable to find data in AllDataSets/cifar10..\n"
     ]
    }
   ],
   "source": [
    "import sys, os, time, h5py, sys, pickle, matplotlib  \n",
    "sys.path.insert(0, \"/home/ruthvik/Desktop/Summer 2017/SpikeFlow\")\n",
    "os.environ[\"CUDA_VISIBLE_DEVICES\"]=\"-1\"  ### GPU is not used\n",
    "import numpy as np\n",
    "import spikeflow as sf\n",
    "from spikeflow import network as network\n",
    "import matplotlib.animation as animation\n",
    "from spikeflow import inputlayerclass as inputlayer\n",
    "np.random.seed(0)"
   ]
  },
  {
   "cell_type": "code",
   "execution_count": null,
   "metadata": {},
   "outputs": [],
   "source": []
  }
 ],
 "metadata": {
  "kernelspec": {
   "display_name": "Python 2",
   "language": "python",
   "name": "python2"
  },
  "language_info": {
   "codemirror_mode": {
    "name": "ipython",
    "version": 2
   },
   "file_extension": ".py",
   "mimetype": "text/x-python",
   "name": "python",
   "nbconvert_exporter": "python",
   "pygments_lexer": "ipython2",
   "version": "2.7.12"
  },
  "toc": {
   "base_numbering": 1,
   "nav_menu": {},
   "number_sections": true,
   "sideBar": true,
   "skip_h1_title": false,
   "title_cell": "Table of Contents",
   "title_sidebar": "Contents",
   "toc_cell": false,
   "toc_position": {
    "height": "calc(100% - 180px)",
    "left": "10px",
    "top": "150px",
    "width": "165px"
   },
   "toc_section_display": true,
   "toc_window_display": true
  }
 },
 "nbformat": 4,
 "nbformat_minor": 2
}

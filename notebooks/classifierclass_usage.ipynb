{
 "cells": [
  {
   "cell_type": "markdown",
   "metadata": {},
   "source": [
    "# References\n",
    "* This notebook shows how to use the `classifierclass.py` file to trian the spike features extracted from `network.py`.\n",
    "* [Neural Nets](http://neuralnetworksanddeeplearning.com/chap3.html)\n",
    "* [Randombackprop](https://github.com/xuexue/randombp/blob/master/randombp.py)\n",
    "* [Randombackprop](https://github.com/sangyi92/feedback_alignment/blob/master/RFA.ipynb)\n",
    "* [Backprop](http://blog.aloni.org/posts/backprop-with-tensorflow/)\n",
    "* [Initializers](https://towardsdatascience.com/hyper-parameters-in-action-part-ii-weight-initializers-35aee1a28404)\n",
    "* [Dropout](https://github.com/pinae/TensorFlow-MNIST-example/blob/master/fully-connected.py)\n",
    "* [Softmax](https://stackoverflow.com/questions/34240703/what-is-logits-softmax-and-softmax-cross-entropy-with-logits)\n",
    "* [SoftmaxLogits](https://www.tensorflow.org/api_docs/python/tf/nn/softmax_cross_entropy_with_logits)"
   ]
  },
  {
   "cell_type": "markdown",
   "metadata": {},
   "source": [
    "# Imports"
   ]
  },
  {
   "cell_type": "code",
   "execution_count": 8,
   "metadata": {},
   "outputs": [
    {
     "name": "stdout",
     "output_type": "stream",
     "text": [
      "WARNING:tensorflow:From /home/ruthvik/.local/lib/python2.7/site-packages/keras/backend/tensorflow_backend.py:74: The name tf.get_default_graph is deprecated. Please use tf.compat.v1.get_default_graph instead.\n",
      "\n",
      "WARNING:tensorflow:From /home/ruthvik/.local/lib/python2.7/site-packages/keras/backend/tensorflow_backend.py:95: The name tf.reset_default_graph is deprecated. Please use tf.compat.v1.reset_default_graph instead.\n",
      "\n",
      "WARNING:tensorflow:From /home/ruthvik/.local/lib/python2.7/site-packages/keras/backend/tensorflow_backend.py:98: The name tf.placeholder_with_default is deprecated. Please use tf.compat.v1.placeholder_with_default instead.\n",
      "\n"
     ]
    }
   ],
   "source": [
    "import numpy as np\n",
    "import h5py, sys, os, time, pickle\n",
    "GPU =      False\n",
    "sys.path.insert(0, \"/home/ruthvik/Desktop/Summer 2017/SpykeFlow\")\n",
    "USE_FASTER_METHOD =   True\n",
    "if(not GPU):\n",
    "    os.environ[\"CUDA_VISIBLE_DEVICES\"]=\"-1\"\n",
    "import numpy as np\n",
    "import spykeflow as sf\n",
    "import matplotlib.pyplot as plt\n",
    "from spykeflow import nn_classifierclass as cls"
   ]
  },
  {
   "cell_type": "markdown",
   "metadata": {},
   "source": [
    "# Load Data"
   ]
  },
  {
   "cell_type": "code",
   "execution_count": 10,
   "metadata": {},
   "outputs": [
    {
     "name": "stdout",
     "output_type": "stream",
     "text": [
      "Total train features:112799\n",
      "test features:18800\n",
      "Length of test labels:18800\n"
     ]
    }
   ],
   "source": [
    "filename = '../../spiking_networks/emnist_train_pool1_acc_cont_spike_features_inh_False_conv1maps_30.h5'\n",
    "with h5py.File(filename, 'r') as hf:\n",
    "    emnist_train_images = hf['pool1_spike_features'][:].astype(np.float32)\n",
    "\n",
    "#emnist_train_images[np.where(emnist_train_images>=1)] = 1\n",
    "print('Total train features:{}'.format(emnist_train_images.shape[0]))\n",
    "\n",
    "\n",
    "filename = '../../spiking_networks/emnist_test_pool1_acc_cont_spike_features_inh_False_conv1maps_30.h5'\n",
    "with h5py.File(filename, 'r') as hf:\n",
    "    emnist_test_images = hf['pool1_spike_features'][:].astype(np.float32)\n",
    "#emnist_test_images[np.where(emnist_test_images>=1)] = 1\n",
    "print('test features:{}'.format(emnist_test_images.shape[0]))\n",
    "\n",
    "\n",
    "filehandle = open('../../spiking_networks/emnist_train_y.pkl','rb')\n",
    "emnist_train_labels = pickle.load(filehandle).astype(np.int).tolist()\n",
    "filehandle.close()\n",
    "#emnist_train_labels = to_categorical(emnist_train_labels, num_classes=47)\n",
    "\n",
    "\n",
    "filehandle = open('../../spiking_networks/emnist_test_y.pkl','rb')\n",
    "emnist_test_labels = pickle.load(filehandle).astype(np.int)\n",
    "filehandle.close()\n",
    "#emnist_test_labels = to_categorical(emnist_test_labels, num_classes=47)\n",
    "print('Length of test labels:{}'.format(emnist_test_labels.shape[0]))"
   ]
  },
  {
   "cell_type": "markdown",
   "metadata": {},
   "source": [
    "# Setup a NN classifier and train"
   ]
  },
  {
   "cell_type": "code",
   "execution_count": null,
   "metadata": {},
   "outputs": [],
   "source": [
    "n_classes = 47\n",
    "n_hidden = 1\n",
    "network_structure = [train_pool1_spike_features.shape[1],1500,n_classes]\n",
    "#network_structure = [train_pool1_spike_features.shape[1],n_classes]\n",
    "#activation_fns = ['sigmoid']*(n_hidden)+['softmax']\n",
    "#activation_fns = ['tanh']*(n_hidden)+['softmax']\n",
    "activation_fns = ['relu']*(n_hidden)+['softmax']\n",
    "#activation_fns = ['swish']*(n_hidden)+['softmax']\n",
    "#activation_fns = ['softmax']\n",
    "#sys.exit()\n",
    "weight_init = 'he_uniform'\n",
    "eta_drop_type = 'plateau'\n",
    "lmbda = 0.000\n",
    "batch_size = 5\n",
    "eta = 0.001\n",
    "\n",
    "log_path = '/home/ruthvik/Desktop/Summer 2017/tf_graph_outputs/emnist/emnist_regular_backprop_final'+''.\\\n",
    "join(activation_fns+['-',weight_init,'-',eta_drop_type,str(-lmbda)])+'/eta'+str(-eta)\n",
    "print(log_path)\n",
    "neural_net = cls.Classifier(train_data=(emnist_train_images,emnist_train_labels),\n",
    "                            test_data=(emnist_test_images,emnist_test_labels),\n",
    "                            network_structure=network_structure,activation_fns=activation_fns,\n",
    "                            epochs=10,eta=eta,lmbda=lmbda,verbose=1,plots=True,optimizer='adam',\n",
    "                            eta_decay_factor=1.007,patience=8,eta_drop_type=eta_drop_type,\n",
    "                            epochs_drop=1, val_frac=0.09,drop_out=0.0,ip_lyr_drop_out=0.0,\n",
    "                            leaky_alpha=0.1,leaky_relu=False,weight_init=weight_init,\n",
    "                            bias_init=0.1,batch_size=batch_size,log_path=log_path)\n",
    "neural_net.keras_fcn_classifier()"
   ]
  }
 ],
 "metadata": {
  "kernelspec": {
   "display_name": "Python 2",
   "language": "python",
   "name": "python2"
  },
  "language_info": {
   "codemirror_mode": {
    "name": "ipython",
    "version": 2
   },
   "file_extension": ".py",
   "mimetype": "text/x-python",
   "name": "python",
   "nbconvert_exporter": "python",
   "pygments_lexer": "ipython2",
   "version": "2.7.12"
  },
  "toc": {
   "base_numbering": 1,
   "nav_menu": {},
   "number_sections": true,
   "sideBar": true,
   "skip_h1_title": false,
   "title_cell": "Table of Contents",
   "title_sidebar": "Contents",
   "toc_cell": false,
   "toc_position": {},
   "toc_section_display": true,
   "toc_window_display": true
  }
 },
 "nbformat": 4,
 "nbformat_minor": 2
}

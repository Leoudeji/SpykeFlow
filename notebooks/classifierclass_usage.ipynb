{
 "cells": [
  {
   "cell_type": "markdown",
   "metadata": {},
   "source": [
    "# References\n",
    "* This notebook shows how to use the `classifierclass.py` file to trian the spike features extracted from `network.py`.\n",
    "* [Neural Nets](http://neuralnetworksanddeeplearning.com/chap3.html)\n",
    "* [Randombackprop](https://github.com/xuexue/randombp/blob/master/randombp.py)\n",
    "* [Randombackprop](https://github.com/sangyi92/feedback_alignment/blob/master/RFA.ipynb)\n",
    "* [Backprop](http://blog.aloni.org/posts/backprop-with-tensorflow/)\n",
    "* [Initializers](https://towardsdatascience.com/hyper-parameters-in-action-part-ii-weight-initializers-35aee1a28404)\n",
    "* [Dropout](https://github.com/pinae/TensorFlow-MNIST-example/blob/master/fully-connected.py)\n",
    "* [Softmax](https://stackoverflow.com/questions/34240703/what-is-logits-softmax-and-softmax-cross-entropy-with-logits)\n",
    "* [SoftmaxLogits](https://www.tensorflow.org/api_docs/python/tf/nn/softmax_cross_entropy_with_logits)"
   ]
  },
  {
   "cell_type": "markdown",
   "metadata": {},
   "source": [
    "# Imports"
   ]
  },
  {
   "cell_type": "code",
   "execution_count": 1,
   "metadata": {},
   "outputs": [
    {
     "name": "stderr",
     "output_type": "stream",
     "text": [
      "/usr/local/lib/python2.7/dist-packages/h5py/__init__.py:36: FutureWarning: Conversion of the second argument of issubdtype from `float` to `np.floating` is deprecated. In future, it will be treated as `np.float64 == np.dtype(float).type`.\n",
      "  from ._conv import register_converters as _register_converters\n",
      "Using TensorFlow backend.\n"
     ]
    },
    {
     "name": "stdout",
     "output_type": "stream",
     "text": [
      "WARNING:tensorflow:From /home/ruthvik/.local/lib/python2.7/site-packages/keras/backend/tensorflow_backend.py:74: The name tf.get_default_graph is deprecated. Please use tf.compat.v1.get_default_graph instead.\n",
      "\n"
     ]
    }
   ],
   "source": [
    "import numpy as np\n",
    "import h5py, sys, os, time, pickle\n",
    "GPU =      True\n",
    "sys.path.insert(0, \"/home/ruthvik/Desktop/Summer 2017/SpykeFlow\")\n",
    "USE_FASTER_METHOD =   True\n",
    "if(not GPU):\n",
    "    os.environ[\"CUDA_VISIBLE_DEVICES\"]=\"-1\"\n",
    "import numpy as np\n",
    "import spykeflow as sf\n",
    "import matplotlib.pyplot as plt\n",
    "from keras import backend\n",
    "from spykeflow import nn_classifierclass as cls"
   ]
  },
  {
   "cell_type": "markdown",
   "metadata": {},
   "source": [
    "# Load Data"
   ]
  },
  {
   "cell_type": "code",
   "execution_count": 2,
   "metadata": {},
   "outputs": [
    {
     "name": "stdout",
     "output_type": "stream",
     "text": [
      "Total train features:112799\n",
      "test features:18800\n",
      "Length of test labels:18800\n"
     ]
    }
   ],
   "source": [
    "filename = '../../spiking_networks/emnist_train_pool1_acc_cont_spike_features_inh_False_conv1maps_30.h5'\n",
    "with h5py.File(filename, 'r') as hf:\n",
    "    emnist_train_images = hf['pool1_spike_features'][:].astype(np.float32)\n",
    "\n",
    "#emnist_train_images[np.where(emnist_train_images>=1)] = 1\n",
    "print('Total train features:{}'.format(emnist_train_images.shape[0]))\n",
    "\n",
    "\n",
    "filename = '../../spiking_networks/emnist_test_pool1_acc_cont_spike_features_inh_False_conv1maps_30.h5'\n",
    "with h5py.File(filename, 'r') as hf:\n",
    "    emnist_test_images = hf['pool1_spike_features'][:].astype(np.float32)\n",
    "#emnist_test_images[np.where(emnist_test_images>=1)] = 1\n",
    "print('test features:{}'.format(emnist_test_images.shape[0]))\n",
    "\n",
    "\n",
    "filehandle = open('../../spiking_networks/emnist_train_y.pkl','rb')\n",
    "emnist_train_labels = pickle.load(filehandle).astype(np.int).tolist()\n",
    "filehandle.close()\n",
    "#emnist_train_labels = to_categorical(emnist_train_labels, num_classes=47)\n",
    "\n",
    "\n",
    "filehandle = open('../../spiking_networks/emnist_test_y.pkl','rb')\n",
    "emnist_test_labels = pickle.load(filehandle).astype(np.int)\n",
    "filehandle.close()\n",
    "#emnist_test_labels = to_categorical(emnist_test_labels, num_classes=47)\n",
    "print('Length of test labels:{}'.format(emnist_test_labels.shape[0]))"
   ]
  },
  {
   "cell_type": "markdown",
   "metadata": {},
   "source": [
    "# Setup a NN classifier and train"
   ]
  },
  {
   "cell_type": "code",
   "execution_count": null,
   "metadata": {},
   "outputs": [
    {
     "name": "stdout",
     "output_type": "stream",
     "text": [
      "/home/ruthvik/Desktop/Summer 2017/tf_graph_outputs/emnist/emnist_regular_backprop_finalsigmoidsoftmax-glorot_uniform-plateau-0.0/eta-0.001\n",
      "WARNING:tensorflow:From /home/ruthvik/.local/lib/python2.7/site-packages/keras/backend/tensorflow_backend.py:95: The name tf.reset_default_graph is deprecated. Please use tf.compat.v1.reset_default_graph instead.\n",
      "\n",
      "WARNING:tensorflow:From /home/ruthvik/.local/lib/python2.7/site-packages/keras/backend/tensorflow_backend.py:98: The name tf.placeholder_with_default is deprecated. Please use tf.compat.v1.placeholder_with_default instead.\n",
      "\n",
      "WARNING:tensorflow:From /home/ruthvik/.local/lib/python2.7/site-packages/keras/backend/tensorflow_backend.py:517: The name tf.placeholder is deprecated. Please use tf.compat.v1.placeholder instead.\n",
      "\n",
      "WARNING:tensorflow:From /home/ruthvik/.local/lib/python2.7/site-packages/keras/backend/tensorflow_backend.py:4138: The name tf.random_uniform is deprecated. Please use tf.random.uniform instead.\n",
      "\n",
      "_________________________________________________________________\n",
      "Layer (type)                 Output Shape              Param #   \n",
      "=================================================================\n",
      "dense_1 (Dense)              (None, 1500)              5446500   \n",
      "_________________________________________________________________\n",
      "activation_1 (Activation)    (None, 1500)              0         \n",
      "_________________________________________________________________\n",
      "dense_2 (Dense)              (None, 47)                70547     \n",
      "_________________________________________________________________\n",
      "activation_2 (Activation)    (None, 47)                0         \n",
      "=================================================================\n",
      "Total params: 5,517,047\n",
      "Trainable params: 5,517,047\n",
      "Non-trainable params: 0\n",
      "_________________________________________________________________\n",
      "None\n",
      "WARNING:tensorflow:From /home/ruthvik/.local/lib/python2.7/site-packages/keras/optimizers.py:790: The name tf.train.Optimizer is deprecated. Please use tf.compat.v1.train.Optimizer instead.\n",
      "\n",
      "WARNING:tensorflow:From /home/ruthvik/.local/lib/python2.7/site-packages/tensorflow/python/ops/math_grad.py:1250: where (from tensorflow.python.ops.array_ops) is deprecated and will be removed in a future version.\n",
      "Instructions for updating:\n",
      "Use tf.where in 2.0, which has the same broadcast rule as np.where\n",
      "Train on 102647 samples, validate on 10152 samples\n",
      "WARNING:tensorflow:From /home/ruthvik/.local/lib/python2.7/site-packages/keras/callbacks.py:796: The name tf.summary.histogram is deprecated. Please use tf.compat.v1.summary.histogram instead.\n",
      "\n",
      "WARNING:tensorflow:From /home/ruthvik/.local/lib/python2.7/site-packages/keras/callbacks.py:850: The name tf.summary.merge_all is deprecated. Please use tf.compat.v1.summary.merge_all instead.\n",
      "\n",
      "WARNING:tensorflow:From /home/ruthvik/.local/lib/python2.7/site-packages/keras/callbacks.py:853: The name tf.summary.FileWriter is deprecated. Please use tf.compat.v1.summary.FileWriter instead.\n",
      "\n",
      "Epoch 1/15\n",
      "102647/102647 [==============================] - 154s 1ms/step - loss: 0.6131 - acc: 0.8091 - val_loss: 0.4477 - val_acc: 0.8486\n",
      "\n",
      "Epoch 00001: val_acc improved from -inf to 0.84860, saving model to weights.best.hdf5\n",
      "Epoch 2/15\n",
      " 19560/102647 [====>.........................] - ETA: 2:01 - loss: 0.2821 - acc: 0.9021"
     ]
    }
   ],
   "source": [
    "n_classes = 47\n",
    "n_hidden = 1\n",
    "network_structure = [emnist_train_images.shape[1],1500,n_classes]\n",
    "#network_structure = [train_pool1_spike_features.shape[1],n_classes]\n",
    "activation_fns = ['sigmoid']*(n_hidden)+['softmax']\n",
    "#activation_fns = ['tanh']*(n_hidden)+['softmax']\n",
    "#activation_fns = ['relu']*(n_hidden)+['softmax']\n",
    "#activation_fns = ['swish']*(n_hidden)+['softmax']\n",
    "#activation_fns = ['softmax']\n",
    "#sys.exit()\n",
    "#weight_init = 'he_uniform'\n",
    "weight_init = 'glorot_uniform'\n",
    "eta_drop_type = 'plateau'\n",
    "lmbda = 0.000\n",
    "batch_size = 5\n",
    "eta = 0.001\n",
    "\n",
    "log_path = '/home/ruthvik/Desktop/Summer 2017/tf_graph_outputs/emnist/emnist_regular_backprop_final'+''.\\\n",
    "join(activation_fns+['-',weight_init,'-',eta_drop_type,str(-lmbda)])+'/eta'+str(-eta)\n",
    "print(log_path)\n",
    "repeats = 5\n",
    "all_histories = []\n",
    "for repeat in range(repeats):\n",
    "    backend.clear_session()\n",
    "    neural_net = cls.Classifier(train_data=(emnist_train_images,emnist_train_labels),\n",
    "                                test_data=(emnist_test_images,emnist_test_labels),\n",
    "                                network_structure=network_structure,activation_fns=activation_fns,\n",
    "                                epochs=15,eta=eta,lmbda=lmbda,verbose=1,plots=False,optimizer='adam',\n",
    "                                eta_decay_factor=1.007,patience=8,eta_drop_type=eta_drop_type,\n",
    "                                epochs_drop=1, val_frac=0.09,drop_out=0.0,ip_lyr_drop_out=0.0,\n",
    "                                leaky_alpha=0.1,leaky_relu=False,weight_init=weight_init,\n",
    "                                bias_init=0.1,batch_size=batch_size,log_path=log_path)\n",
    "    neural_net.keras_fcn_classifier()\n",
    "    all_histories.append(neural_net.history)"
   ]
  },
  {
   "cell_type": "code",
   "execution_count": 5,
   "metadata": {},
   "outputs": [
    {
     "data": {
      "text/plain": [
       "[{'acc': [0.8104669493734178],\n",
       "  'best_test_acc': [0.4829653294352775, 0.847872340425532],\n",
       "  'last_test_acc': [0.4829653294352775, 0.847872340425532],\n",
       "  'loss': [0.6106887955359804],\n",
       "  'lr': [0.001],\n",
       "  'val_acc': [0.8488967772353062],\n",
       "  'val_loss': [0.4612666177767271]},\n",
       " {'acc': [0.8078560597095452],\n",
       "  'best_test_acc': [0.48799227334083395, 0.848404255319149],\n",
       "  'last_test_acc': [0.48799227334083395, 0.848404255319149],\n",
       "  'loss': [0.6110614565575249],\n",
       "  'lr': [0.001],\n",
       "  'val_acc': [0.8481087552029801],\n",
       "  'val_loss': [0.4666968521341427]}]"
      ]
     },
     "execution_count": 5,
     "metadata": {},
     "output_type": "execute_result"
    }
   ],
   "source": [
    "all_histories"
   ]
  },
  {
   "cell_type": "code",
   "execution_count": null,
   "metadata": {},
   "outputs": [],
   "source": []
  }
 ],
 "metadata": {
  "kernelspec": {
   "display_name": "Python 2",
   "language": "python",
   "name": "python2"
  },
  "language_info": {
   "codemirror_mode": {
    "name": "ipython",
    "version": 2
   },
   "file_extension": ".py",
   "mimetype": "text/x-python",
   "name": "python",
   "nbconvert_exporter": "python",
   "pygments_lexer": "ipython2",
   "version": "2.7.12"
  },
  "toc": {
   "base_numbering": 1,
   "nav_menu": {},
   "number_sections": true,
   "sideBar": true,
   "skip_h1_title": false,
   "title_cell": "Table of Contents",
   "title_sidebar": "Contents",
   "toc_cell": false,
   "toc_position": {},
   "toc_section_display": true,
   "toc_window_display": true
  }
 },
 "nbformat": 4,
 "nbformat_minor": 2
}
